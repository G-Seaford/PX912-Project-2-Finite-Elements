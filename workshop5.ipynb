{
 "cells": [
  {
   "cell_type": "markdown",
   "metadata": {},
   "source": [
    "# PX912: Solid Mechanics - Workshop 5"
   ]
  },
  {
   "cell_type": "markdown",
   "metadata": {},
   "source": [
    "This workshop expands on the single finite element solution procedure described in Workshop 4 onto multiple finite elements. \n",
    "\n",
    "The first part of this workshop relates to a simple finite element mesh generator - it uses 2D four-node linear quads to discretize simple 2D domains. The generator can be used in your own project. \n",
    "\n",
    "The second part of this workshop includes main steps involved in a FE solution with multiple finite elements. These solution steps involved in this workshop will constitute the major component of your coursework project. "
   ]
  },
  {
   "cell_type": "code",
   "execution_count": 14,
   "metadata": {},
   "outputs": [],
   "source": [
    "import numpy as np\n",
    "import matplotlib.pyplot as plt\n",
    "\n",
    "# sympy isn't essential, but you might want to borrow code\n",
    "# from Workshop 4.\n",
    "# SymPy Library: Symbolic Python\n",
    "import sympy as sym\n",
    "sym.init_printing()"
   ]
  },
  {
   "cell_type": "markdown",
   "metadata": {},
   "source": [
    "### I. Mesh generator - brief description \n",
    "In the previous workshop, the finite element procedure was carried out on a single element. For this workshop, as well as your coursework, you'll be working with a larger number of elements.\n",
    "\n",
    "The FEM solution is influenced by the number of elements used, the number of nodes per element, the nature of shape functions, or integration rules. All this results in a *discretization error*.  \n",
    "\n",
    "Hence, appropriate discretization (or simply *meshing*) is important. One can come up with their own *meshing* technique or use tools available online. Here is a simple approach we recommend for your project."
   ]
  },
  {
   "attachments": {
    "mesh.png": {
     "image/png": "[encoded data removed]"
    }
   },
   "cell_type": "markdown",
   "metadata": {},
   "source": [
    "We are going to recreate this mesh plot.\n",
    "\n",
    "![mesh.png](attachment:mesh.png)\n",
    "\n",
    "As you can see, you need to specify the coordinates on the boundary of the shape."
   ]
  },
  {
   "cell_type": "code",
   "execution_count": 15,
   "metadata": {},
   "outputs": [],
   "source": [
    "bot = [0, 0.5, 1, 1.5, 2]                               # x-coordinates of bottom side nodes\n",
    "top = [0, 0.5, 1, 1.5, 2]                               # x-coordinates of top side nodes\n",
    "left = [0, 0.5, 1]                                      # y-coordinates of left-hand side nodes \n",
    "right = [0.5, 0.75, 1]                                  # y-coordinates nodes of right-hand side nodes"
   ]
  },
  {
   "cell_type": "markdown",
   "metadata": {},
   "source": [
    "Time for some bookkeeping. \n",
    "1. How many horizontal nodes do we have? How many elements?\n",
    "2. How many verticle nodes do we have? How many elements?\n",
    "3. What is the total number of nodes?"
   ]
  },
  {
   "cell_type": "code",
   "execution_count": 16,
   "metadata": {},
   "outputs": [
    {
     "data": {
      "image/png": "[encoded data removed]",
      "text/latex": [
       "$\\displaystyle \\left( 5, \\  3, \\  4, \\  2, \\  15\\right)$"
      ],
      "text/plain": [
       "(5, 3, 4, 2, 15)"
      ]
     },
     "execution_count": 16,
     "metadata": {},
     "output_type": "execute_result"
    }
   ],
   "source": [
    "nnodesx = len(bot)                                      # number of horizontal nodes\n",
    "nnodesy = len(left)                                     # number of vertical nodes \n",
    "nelx = nnodesx-1                                        # number of horizontal elements\n",
    "nely = nnodesy-1                                        # number of vertical elements\n",
    "nnodes = nnodesx*nnodesy                                # total number of nodes   \n",
    "\n",
    "nnodesx, nnodesy, nelx, nely, nnodes"
   ]
  },
  {
   "cell_type": "markdown",
   "metadata": {},
   "source": [
    "Now we generate the positions of each node. "
   ]
  },
  {
   "cell_type": "code",
   "execution_count": 17,
   "metadata": {},
   "outputs": [
    {
     "data": {
      "text/plain": [
       "array([[0.    , 0.    ],\n",
       "       [0.5   , 0.125 ],\n",
       "       [1.    , 0.25  ],\n",
       "       [1.5   , 0.375 ],\n",
       "       [2.    , 0.5   ],\n",
       "       [0.    , 0.5   ],\n",
       "       [0.5   , 0.5625],\n",
       "       [1.    , 0.625 ],\n",
       "       [1.5   , 0.6875],\n",
       "       [2.    , 0.75  ],\n",
       "       [0.    , 1.    ],\n",
       "       [0.5   , 1.    ],\n",
       "       [1.    , 1.    ],\n",
       "       [1.5   , 1.    ],\n",
       "       [2.    , 1.    ]])"
      ]
     },
     "execution_count": 17,
     "metadata": {},
     "output_type": "execute_result"
    }
   ],
   "source": [
    "# length of RVE, x and y\n",
    "lx = bot[nnodesx-1] - bot[0]\n",
    "ly = left[nnodesy-1] - left[0]\n",
    "\n",
    "# GENERATE COORDINATES OF NODES 'XYZ'\n",
    "XYZ = np.zeros((nnodes,2))            \n",
    "for i in range(nnodesy):\n",
    "    yl = left[i] - left[0]\n",
    "    dy = right[i] - left[i]\n",
    "    for j in range(nnodesx):\n",
    "        xb = bot[j] - bot[0]\n",
    "        dx = top[j] - bot[j]\n",
    "\n",
    "        x = (dx*yl+xb*ly)/(ly-dx*dy/lx)\n",
    "        y = dy/lx*x+yl\n",
    "\n",
    "        XYZ[j+i*nnodesx, 0] = x + bot[0] \n",
    "        XYZ[j+i*nnodesx, 1] = y + left[0]\n",
    "        \n",
    "XYZ"
   ]
  },
  {
   "cell_type": "markdown",
   "metadata": {},
   "source": [
    "It is very useful to find the node numbers for each element. This routine returns the node numbers for each element. For example, the first three elements should have node numbers:\n",
    "```\n",
    "[0, 1, 6, 5], [1, 2, 7, 6], [2, 3, 8, 7]\n",
    "```\n",
    "Note the direction that the nodes are being registered. Keep this consistent!"
   ]
  },
  {
   "cell_type": "code",
   "execution_count": 18,
   "metadata": {},
   "outputs": [
    {
     "data": {
      "text/plain": [
       "array([[ 0,  1,  6,  5],\n",
       "       [ 1,  2,  7,  6],\n",
       "       [ 2,  3,  8,  7],\n",
       "       [ 3,  4,  9,  8],\n",
       "       [ 5,  6, 11, 10],\n",
       "       [ 6,  7, 12, 11],\n",
       "       [ 7,  8, 13, 12],\n",
       "       [ 8,  9, 14, 13]])"
      ]
     },
     "execution_count": 18,
     "metadata": {},
     "output_type": "execute_result"
    }
   ],
   "source": [
    "# NODE NUMBERS FOR ELEMENTS \n",
    "nel = nelx*nely\n",
    "CON = np.zeros((nel,4), dtype=int)\n",
    "for i in range(nely):\n",
    "    for j in range(nelx):\n",
    "        # element 'el' and corresponding node numbers\n",
    "        CON[j+i*nelx, :] = [j+i*nnodesx, j+i*nnodesx+1,j+(i+1)*nnodesx+1, j+(i+1)*nnodesx] \n",
    "CON"
   ]
  },
  {
   "cell_type": "markdown",
   "metadata": {},
   "source": [
    "Finally, we should determine the degrees of freedom from the node numbers for each element. For the first element, you should get:\n",
    "```\n",
    "[ 0,  1,  2,  3, 12, 13, 10, 11]\n",
    "```"
   ]
  },
  {
   "cell_type": "code",
   "execution_count": 19,
   "metadata": {},
   "outputs": [
    {
     "data": {
      "text/plain": [
       "array([[ 0,  1,  2,  3, 12, 13, 10, 11],\n",
       "       [ 2,  3,  4,  5, 14, 15, 12, 13],\n",
       "       [ 4,  5,  6,  7, 16, 17, 14, 15],\n",
       "       [ 6,  7,  8,  9, 18, 19, 16, 17],\n",
       "       [10, 11, 12, 13, 22, 23, 20, 21],\n",
       "       [12, 13, 14, 15, 24, 25, 22, 23],\n",
       "       [14, 15, 16, 17, 26, 27, 24, 25],\n",
       "       [16, 17, 18, 19, 28, 29, 26, 27]])"
      ]
     },
     "execution_count": 19,
     "metadata": {},
     "output_type": "execute_result"
    }
   ],
   "source": [
    "# Global DOF for each element (4-node (linear) quadrilateral element)\n",
    "DOF = np.zeros((nel,2*4), dtype=int)\n",
    "for i in range(nel):\n",
    "    # defines single row of DOF for each element 'i'\n",
    "    DOF[i,:] = [CON[i,0]*2, CON[i,1]*2-1, CON[i,1]*2, CON[i,1]*2+1,CON[i,2]*2, CON[i,2]*2+1, CON[i,3]*2, CON[i,3]*2+1]\n",
    "\n",
    "DOF"
   ]
  },
  {
   "cell_type": "markdown",
   "metadata": {},
   "source": [
    "Now, generalise your routines to work for any set of boundary coordinates. Write these in function form so that the code might be reused."
   ]
  },
  {
   "cell_type": "code",
   "execution_count": 20,
   "metadata": {},
   "outputs": [],
   "source": [
    "def mesh(bot,top,left,right):\n",
    "    # returns [XYZ, CON, DOF] \n",
    "    # XYZ - array of nodal coordinates [number of elements x 2]\n",
    "    # CON - array of node numbers for elements (linear QUADS [number of elements x 4])\n",
    "    # DOF - array of element DOFs (4-node (linear) quadrilateral element => [number of elements x 8]); \n",
    "    \n",
    "    # number of nodes and element in the RVE\n",
    "    nnodesx = len(bot)                     # number of horizontal nodes\n",
    "    nnodesy = len(left)                    # number of vertical nodes \n",
    "    nelx = nnodesx-1                       # number of horizontal elements\n",
    "    nely = nnodesy-1                       # number of vertical elements\n",
    "    nnodes = nnodesx*nnodesy               # total number of nodes    \n",
    "\n",
    "    # length of RVE\n",
    "    lx = bot[nnodesx-1] - bot[0]           # length of RVE in x-direction (horizontal)\n",
    "    ly = left[nnodesy-1] - left[0]         # length of RVE in y-direction (vertical)\n",
    "\n",
    "    # GENERATE COORDINATES OF NODES 'XYZ'\n",
    "    XYZ = np.zeros((nnodes,2))            # two-column array [nnodes x 2] containing all nodal coordinates  \n",
    "    for i in range(nnodesy):              # loop over all nodes on the vertical sides \n",
    "        yl = left[i] - left[0]            # distance between node 'i' and left-bottom node '1'\n",
    "        dy = right[i] - left[i]           # distance between the corresponing nodes j on top and bottom \n",
    "        for j in range(nnodesx):          # loop over all nodes on the horizontal sides\n",
    "            xb = bot[j] - bot[0]          # distance between node 'j' and bottom-left node '1' \n",
    "            dx = top[j] - bot[j]          # distance between nodes 'j' on opposite sides (top and bottom)\n",
    "\n",
    "            x = (dx*yl+xb*ly)/(ly-dx*dy/lx) # x-coordinate (horizontal) of a node in the interior of RVE\n",
    "            y = dy/lx*x+yl                  # y-coordinate (vertical) of a node in the interior of RVE\n",
    "\n",
    "            XYZ[j+i*nnodesx, 0] = x + bot[0]  # coordinate 'x' in the global coordinate system \n",
    "            XYZ[j+i*nnodesx, 1] = y + left[0] # coordinate 'y' in the global coordinate system\n",
    "\n",
    "    # NODE NUMBERS FOR ELEMENTS \n",
    "    nel = nelx*nely                              # total number of elements in RVE\n",
    "    CON = np.zeros((nel,4), dtype=int)           # [nel*4] array of node number for each element\n",
    "    for i in range(nely):                        # loop over elements in the vertical direction \n",
    "        for j in range(nelx):                    # loop over elements in the horizontal direction \n",
    "            # element 'el' and corresponding node numbers\n",
    "            CON[j+i*nelx, :] = [j+i*nnodesx, j+i*nnodesx+1,j+(i+1)*nnodesx+1, j+(i+1)*nnodesx] \n",
    "\n",
    "    # Global DOF for each element (4-node (linear) quadrilateral element)\n",
    "    DOF = np.zeros((nel,2*4), dtype=int)\n",
    "    for i in range(nel):\n",
    "        # defines single row of DOF for each element 'i'\n",
    "        DOF[i,:] = [CON[i,0]*2, CON[i,1]*2-1, CON[i,1]*2, CON[i,1]*2+1,CON[i,2]*2, CON[i,2]*2+1, CON[i,3]*2, CON[i,3]*2+1]\n",
    "        \n",
    "    return XYZ, CON, DOF"
   ]
  },
  {
   "cell_type": "code",
   "execution_count": 21,
   "metadata": {},
   "outputs": [
    {
     "data": {
      "image/png": "[encoded data removed]",
      "text/plain": [
       "<Figure size 640x480 with 1 Axes>"
      ]
     },
     "metadata": {},
     "output_type": "display_data"
    }
   ],
   "source": [
    "# Plotting routine: \n",
    "# plot the mesh \n",
    "plt.plot(XYZ[:, 0], XYZ[:, 1], 'sk')\n",
    "\n",
    "for i in range(len(CON)):\n",
    "    plt.fill(XYZ[CON[i, :], 0], XYZ[CON[i, :], 1], edgecolor='k', fill=False)\n",
    "\n",
    "for i in range(4):                             #loop over all nodes within an element\n",
    "    for j in range(len(CON)):                  #loop over all elements\n",
    "        sh=0.01\n",
    "        plt.text(XYZ[CON[j,i],0]+sh,XYZ[CON[j,i],1]+sh, CON[j,i])\n",
    "\n",
    "\n",
    "# Set chart title.\n",
    "plt.title(\"Mesh\", fontsize=19)\n",
    "# Set x axis label.\n",
    "plt.xlabel(\"$x_1$\", fontsize=10)\n",
    "# Set y axis label.\n",
    "plt.ylabel(\"$x_2$\", fontsize=10)\n",
    "# Set size of tick labels.\n",
    "plt.tick_params(axis='both', which='major', labelsize=9)\n",
    "\n",
    "plt.show()"
   ]
  },
  {
   "cell_type": "markdown",
   "metadata": {},
   "source": [
    "## II. Finite element solution procedure with multiple finite elements"
   ]
  },
  {
   "cell_type": "markdown",
   "metadata": {},
   "source": [
    "The steps suggested below are related to your coursework. \n",
    "\n",
    "Detailed guidance cannot be given, but everything you need can be found in the previous two workshops."
   ]
  },
  {
   "cell_type": "markdown",
   "metadata": {},
   "source": [
    "### II.1. Mesh"
   ]
  },
  {
   "cell_type": "code",
   "execution_count": 22,
   "metadata": {},
   "outputs": [
    {
     "data": {
      "image/png": "[encoded data removed]",
      "text/plain": [
       "<Figure size 640x480 with 1 Axes>"
      ]
     },
     "metadata": {},
     "output_type": "display_data"
    }
   ],
   "source": [
    "# coordinates defining relevant external edges of the model  \n",
    "\n",
    "#1 element\n",
    "\n",
    "#4 elements \n",
    "#bot = [0, 1, 2]                               # x-coordinates of bottom side nodes\n",
    "#top = [0, 1, 2]                               # x-coordinates of top side nodes\n",
    "#left = [0, 0.5, 1]                            # y-coordinates of left-hand side nodes \n",
    "#right = [0.5, 0.75, 1]                        # y-coordinates nodes of right-hand side nodes\n",
    "\n",
    "#8 elements \n",
    "bot = [0, 0.5, 1, 1.5, 2]\n",
    "top = [0, 0.5, 1, 1.5, 2]\n",
    "left = [0, 0.5, 1]\n",
    "right = [0.5, 0.75, 1]\n",
    "#generate mesh\n",
    "XYZ, CON, DOF = mesh(bot,top,left,right)\n",
    "\n",
    "# plot the mesh \n",
    "plt.plot(XYZ[:, 0], XYZ[:, 1], 'sk')\n",
    "\n",
    "for i in range(len(CON)):\n",
    "    plt.fill(XYZ[CON[i, :], 0], XYZ[CON[i, :], 1], edgecolor='k', fill=False)\n",
    "\n",
    "for i in range(4):                             #loop over all nodes within an element\n",
    "    for j in range(len(CON)):                  #loop over all elements\n",
    "        sh=0.01\n",
    "        plt.text(XYZ[CON[j,i],0]+sh,XYZ[CON[j,i],1]+sh, CON[j,i])\n",
    "\n",
    "\n",
    "# Set chart title.\n",
    "plt.title(\"Mesh\", fontsize=19)\n",
    "# Set x axis label.\n",
    "plt.xlabel(\"$x_1$\", fontsize=10)\n",
    "# Set y axis label.\n",
    "plt.ylabel(\"$x_2$\", fontsize=10)\n",
    "# Set size of tick labels.\n",
    "plt.tick_params(axis='both', which='major', labelsize=9)\n",
    "\n",
    "plt.show()"
   ]
  },
  {
   "cell_type": "markdown",
   "metadata": {},
   "source": [
    "### II.2. Input \n",
    "* Specify the parameters of your system.\n",
    "* Set the boundary conditions: which nodes in the system are fixed? Which nodes are acted on by a force? Can you specify these in your unknowns? Hint: consider using a similar approach to Question 2 in  Workshop 4."
   ]
  },
  {
   "cell_type": "code",
   "execution_count": 23,
   "metadata": {},
   "outputs": [
    {
     "ename": "NameError",
     "evalue": "name 'ID1' is not defined",
     "output_type": "error",
     "traceback": [
      "\u001b[0;31m---------------------------------------------------------------------------\u001b[0m",
      "\u001b[0;31mNameError\u001b[0m                                 Traceback (most recent call last)",
      "Cell \u001b[0;32mIn[23], line 13\u001b[0m\n\u001b[1;32m     10\u001b[0m BC \u001b[38;5;241m=\u001b[39m np\u001b[38;5;241m.\u001b[39mones((ndof,),dtype\u001b[38;5;241m=\u001b[39m\u001b[38;5;28mint\u001b[39m)                                \u001b[38;5;66;03m# creates array\u001b[39;00m\n\u001b[1;32m     12\u001b[0m \u001b[38;5;66;03m# boundary constraints - set to zero relevant DOFs\u001b[39;00m\n\u001b[0;32m---> 13\u001b[0m BC[[\u001b[43mID1\u001b[49m, \u001b[38;5;241m.\u001b[39m\u001b[38;5;241m.\u001b[39m\u001b[38;5;241m.\u001b[39m]] \u001b[38;5;241m=\u001b[39m \u001b[38;5;241m0\u001b[39m                                             \u001b[38;5;66;03m# assign nodal IDs to zero-displacement boundary conditions  \u001b[39;00m\n\u001b[1;32m     15\u001b[0m \u001b[38;5;66;03m# create BC array containing non-zero IDs of DOFs - will be used when reducing the size of the global stiffness matrix \u001b[39;00m\n\u001b[1;32m     16\u001b[0m BC \u001b[38;5;241m=\u001b[39m BC\u001b[38;5;241m.\u001b[39mnonzero()                                              \u001b[38;5;66;03m# find non-zero IDs of BC\u001b[39;00m\n",
      "\u001b[0;31mNameError\u001b[0m: name 'ID1' is not defined"
     ]
    }
   ],
   "source": [
    "# Material properties \n",
    "E= ...                                                        \n",
    "nu= ...                                                      \n",
    "\n",
    "# Model thickness\n",
    "th = ...                                                       # thickness of the 2D domain\n",
    "\n",
    "#Boundary conditions\n",
    "ndof=2*len(XYZ)\n",
    "BC = np.ones((ndof,),dtype=int)                                # creates array\n",
    "\n",
    "# boundary constraints - set to zero relevant DOFs\n",
    "BC[[ID1, ...]] = 0                                             # assign nodal IDs to zero-displacement boundary conditions  \n",
    "\n",
    "# create BC array containing non-zero IDs of DOFs - will be used when reducing the size of the global stiffness matrix \n",
    "BC = BC.nonzero()                                              # find non-zero IDs of BC\n",
    "BC = np.array(BC).transpose()\n",
    "BC = BC.reshape(-1)\n",
    "\n",
    "# External loads - define the right hand side load vector \n",
    "fext = ...                                                    # units of Newton [N]\n",
    "\n",
    "rhs = np.zeros((ndof,),dtype=float)                           # create the right hand side (RHS) column matrix\n",
    "\n",
    "rhs[[ID1, ...]] = fext                                        # apply loads to relevant nodal IDs\n",
    "\n",
    "rhs = rhs[BC]                                                 # combine components corresponding to non-zero components of 'BCmacro'\n"
   ]
  },
  {
   "cell_type": "markdown",
   "metadata": {},
   "source": [
    "It's worth collecting all the functions that you'll be needing that you've already written. These are\n",
    "* The element elasticity matrix.\n",
    "* The element strain-displacement matrix.\n",
    "* The element stiffness matrix.\n",
    "* The strain and stress column matrices (Voigt notation).\n",
    "\n",
    "Make sure you with the relevant coordinates."
   ]
  },
  {
   "cell_type": "markdown",
   "metadata": {},
   "source": [
    "### II.3. Element elasticity matrix (function)"
   ]
  },
  {
   "cell_type": "code",
   "execution_count": null,
   "metadata": {},
   "outputs": [],
   "source": [
    "def elasticity_matrix(E,nu):\n",
    "    \n",
    "    Ce=np.zeros((3,3))                                               # elasticity matrix [3 X 3]                                                   #element nu\n",
    "    Ce=...\n",
    "    \n",
    "    return Ce"
   ]
  },
  {
   "cell_type": "markdown",
   "metadata": {},
   "source": [
    "### II.4. Element strain-displacement matrix (function)"
   ]
  },
  {
   "cell_type": "code",
   "execution_count": null,
   "metadata": {},
   "outputs": [],
   "source": [
    "def dispstrain_B(xyze,xi,eta):\n",
    "    \n",
    "    \n",
    "    dsB=np.zeros((3,8))                               # strain-displacement matrix\n",
    "    dsB=...\n",
    "    \n",
    "    return dsB, J                                     "
   ]
  },
  {
   "cell_type": "markdown",
   "metadata": {},
   "source": [
    "### II.5. Element stiffness matrix (function)"
   ]
  },
  {
   "cell_type": "code",
   "execution_count": null,
   "metadata": {},
   "outputs": [],
   "source": [
    "def keval(ElemType,xyze,Ce,th):\n",
    "\n",
    "    \n",
    "    for i in range(4):                       \n",
    "            xi=Gauss[0,i]                                   \n",
    "            eta=Gauss[1,i]                                 \n",
    "            \n",
    "    \n",
    "            ke=...                                     # element stiffness matrix\n",
    "        \n",
    "    return ke "
   ]
  },
  {
   "cell_type": "markdown",
   "metadata": {},
   "source": [
    "### II.6. Strain and stress calculation (functions)"
   ]
  },
  {
   "cell_type": "code",
   "execution_count": null,
   "metadata": {},
   "outputs": [],
   "source": [
    "def sigma_vector(XYZ,CON,DOF,Ce,d):\n",
    "    \n",
    "            \n",
    "        for i in range(nel):\n",
    "            id = ...                               \n",
    "            xyze = ...                            \n",
    "            de = ...\n",
    "            \n",
    "            for j in range(4):                                \n",
    "                xi=Gauss[0,j]                                   \n",
    "                eta=Gauss[1,j]                                \n",
    "            \n",
    "                 \n",
    "                \n",
    "                sigmaGauss = ...                   # stresses at j-th Gauss point within i-th element\n",
    "                \n",
    "                sigma =                            # sum of the stresses over all Gauss points in i-th element\n",
    "\n",
    "    \n",
    "    return sigma"
   ]
  },
  {
   "cell_type": "markdown",
   "metadata": {},
   "source": [
    "### II.7 Global stiffness matrix (function) \n",
    "Now it's time to assemble the matrices for each element. HINT: use function 'np.ix_(,)' to assemble the global stiffness matrix.    "
   ]
  },
  {
   "cell_type": "code",
   "execution_count": null,
   "metadata": {},
   "outputs": [],
   "source": [
    "def K_global(XYZ,CON,DOF,Ce,th,BC):\n",
    "    \n",
    "    nel= ...                                              # number of elements\n",
    "    ndof= ...                                             # number of global DOFs\n",
    "\n",
    "    Kglobal=np.zeros((ndof,ndof))                         # create an array for Kglobal \n",
    "\n",
    "    for i in range(nel):\n",
    "        \n",
    "        id=...                                            # define IDs of DOFs\n",
    "\n",
    "        ke = keval(xyze,Ce,th)                            # call the function evaluating the element stiffness matrix\n",
    "    \n",
    "        Kglobal[np.ix_(id,id)] = ...                      # assemble the global stiffness matrix\n",
    "\n",
    "    Kglobal_red=...                                       # reduce the size of the global K matrix\n",
    "        \n",
    "    return Kglobal_red"
   ]
  },
  {
   "cell_type": "markdown",
   "metadata": {},
   "source": [
    "### II.8. Computing unknown displacements"
   ]
  },
  {
   "cell_type": "markdown",
   "metadata": {},
   "source": [
    "At this point, you have everything you need to solve the complete system - similar to Q2 in Workshop 4. "
   ]
  },
  {
   "cell_type": "code",
   "execution_count": null,
   "metadata": {},
   "outputs": [],
   "source": [
    "# Call calculation of the elasticity matrix \n",
    "C = elasticity_matrix(E,nu)\n",
    "\n",
    "\n",
    "# Calculate unknown nodal displacements\n",
    "Kglobal_red = K_global(XYZ, CON ,DOF, C, th, BC)\n",
    "dglobal_red = np.linalg.solve(Kglobal_red, rhs)\n",
    "\n",
    "dglobal = np.zeros((2*len(XYZ),))\n",
    "dglobal[BC] = ...                                   # global nodal displacement vector (including zero DOFs)\n",
    "\n",
    "# strains, stresses\n",
    "epsilon = ...\n",
    "sigma = ...\n"
   ]
  },
  {
   "cell_type": "markdown",
   "metadata": {},
   "source": [
    "### Plot displacements over the undeformed configuration"
   ]
  },
  {
   "cell_type": "code",
   "execution_count": null,
   "metadata": {},
   "outputs": [],
   "source": []
  },
  {
   "cell_type": "markdown",
   "metadata": {},
   "source": [
    "### Calculate and plot stress and strain"
   ]
  },
  {
   "cell_type": "code",
   "execution_count": null,
   "metadata": {},
   "outputs": [],
   "source": []
  }
 ],
 "metadata": {
  "kernelspec": {
   "display_name": "Python 3",
   "language": "python",
   "name": "python3"
  },
  "language_info": {
   "codemirror_mode": {
    "name": "ipython",
    "version": 3
   },
   "file_extension": ".py",
   "mimetype": "text/x-python",
   "name": "python",
   "nbconvert_exporter": "python",
   "pygments_lexer": "ipython3",
   "version": "3.13.0"
  }
 },
 "nbformat": 4,
 "nbformat_minor": 4
}
